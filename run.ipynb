{
 "cells": [
  {
   "cell_type": "code",
   "execution_count": null,
   "metadata": {},
   "outputs": [],
   "source": [
    "import gate_api\n",
    "from gate_api.exceptions import ApiException, GateApiException"
   ]
  },
  {
   "cell_type": "code",
   "execution_count": null,
   "metadata": {},
   "outputs": [],
   "source": [
    "import pandas as pd\n",
    "import numpy as np\n",
    "import datetime\n",
    "from datetime import datetime\n",
    "from datetime import date\n",
    "import time\n",
    "import plotly\n",
    "import plotly.graph_objects as go\n",
    "from matplotlib import pyplot\n",
    "import os"
   ]
  },
  {
   "cell_type": "code",
   "execution_count": null,
   "metadata": {},
   "outputs": [],
   "source": [
    "from channel_formation import make_channel, highs_above, lows_below\n",
    "from reading_input import readingInput, createDataFrame\n",
    "from moving_averages import SMA , EMA"
   ]
  },
  {
   "cell_type": "code",
   "execution_count": null,
   "metadata": {},
   "outputs": [],
   "source": [
    "inputs,channel_length,trade_pairs = readingInput('inputfile.txt')\n",
    "#print(trade_pairs)"
   ]
  },
  {
   "cell_type": "code",
   "execution_count": null,
   "metadata": {},
   "outputs": [],
   "source": [
    "min_channel_length = int(channel_length)\n",
    "step  = 5\n",
    "\n",
    "for trade_pair in trade_pairs:\n",
    "    data = createDataFrame(trade_pair)\n",
    "    name = trade_pair[0]\n",
    "    channels = 0\n",
    "    index= 0\n",
    "    while index<len(data.index)-100:\n",
    "        channel=0\n",
    "        for length in range(100,min_channel_length,-step):    \n",
    "            plot_funct = make_channel(data, length, index, step)\n",
    "            if plot_funct==True:\n",
    "                index = index+length\n",
    "                channels+=1\n",
    "                channel=1\n",
    "                break\n",
    "        if channel==0:\n",
    "            index+=step\n",
    "            \n",
    "\n",
    "    while index < len(data.index)-min_channel_length:\n",
    "        channel=0\n",
    "        for length in range(len(data.index)-index,min_channel_length,-step):    \n",
    "            plot_funct = make_channel(data, length, index, step)\n",
    "            if plot_funct==True:\n",
    "                channels+=1\n",
    "                channel=1\n",
    "                index+=length\n",
    "                break\n",
    "                \n",
    "        if channel==0:\n",
    "            index+=step\n",
    "                \n",
    "    print(name + ':' + str(channels))"
   ]
  },
  {
   "cell_type": "code",
   "execution_count": null,
   "metadata": {},
   "outputs": [],
   "source": []
  },
  {
   "cell_type": "code",
   "execution_count": null,
   "metadata": {},
   "outputs": [],
   "source": []
  },
  {
   "cell_type": "code",
   "execution_count": null,
   "metadata": {},
   "outputs": [],
   "source": []
  }
 ],
 "metadata": {
  "kernelspec": {
   "display_name": "Python 3",
   "language": "python",
   "name": "python3"
  },
  "language_info": {
   "codemirror_mode": {
    "name": "ipython",
    "version": 3
   },
   "file_extension": ".py",
   "mimetype": "text/x-python",
   "name": "python",
   "nbconvert_exporter": "python",
   "pygments_lexer": "ipython3",
   "version": "3.8.5"
  }
 },
 "nbformat": 4,
 "nbformat_minor": 4
}
