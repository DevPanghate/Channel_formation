{
 "cells": [
  {
   "cell_type": "code",
   "execution_count": 1,
   "metadata": {},
   "outputs": [],
   "source": [
    "import gate_api\n",
    "from gate_api.exceptions import ApiException, GateApiException"
   ]
  },
  {
   "cell_type": "code",
   "execution_count": 2,
   "metadata": {},
   "outputs": [],
   "source": [
    "import pandas as pd\n",
    "import numpy as np\n",
    "import datetime\n",
    "from datetime import datetime\n",
    "from datetime import date\n",
    "import time\n",
    "import plotly\n",
    "import plotly.graph_objects as go\n",
    "from matplotlib import pyplot\n",
    "import os"
   ]
  },
  {
   "cell_type": "code",
   "execution_count": 3,
   "metadata": {},
   "outputs": [
    {
     "ename": "ModuleNotFoundError",
     "evalue": "No module named 'moving_averages'",
     "output_type": "error",
     "traceback": [
      "\u001b[0;31m---------------------------------------------------------------------------\u001b[0m",
      "\u001b[0;31mModuleNotFoundError\u001b[0m                       Traceback (most recent call last)",
      "\u001b[0;32m/tmp/ipykernel_450/373838791.py\u001b[0m in \u001b[0;36m<module>\u001b[0;34m\u001b[0m\n\u001b[1;32m      1\u001b[0m \u001b[0;32mfrom\u001b[0m \u001b[0mchannel_formation\u001b[0m \u001b[0;32mimport\u001b[0m \u001b[0mmake_channel\u001b[0m\u001b[0;34m,\u001b[0m \u001b[0mhighs_above\u001b[0m\u001b[0;34m,\u001b[0m \u001b[0mlows_below\u001b[0m\u001b[0;34m\u001b[0m\u001b[0;34m\u001b[0m\u001b[0m\n\u001b[1;32m      2\u001b[0m \u001b[0;32mfrom\u001b[0m \u001b[0mreading_input\u001b[0m \u001b[0;32mimport\u001b[0m \u001b[0mreadingInput\u001b[0m\u001b[0;34m,\u001b[0m \u001b[0mcreateDataFrame\u001b[0m\u001b[0;34m\u001b[0m\u001b[0;34m\u001b[0m\u001b[0m\n\u001b[0;32m----> 3\u001b[0;31m \u001b[0;32mfrom\u001b[0m \u001b[0mmoving_averages\u001b[0m \u001b[0;32mimport\u001b[0m \u001b[0mSMA\u001b[0m \u001b[0;34m,\u001b[0m \u001b[0mEMA\u001b[0m\u001b[0;34m\u001b[0m\u001b[0;34m\u001b[0m\u001b[0m\n\u001b[0m",
      "\u001b[0;31mModuleNotFoundError\u001b[0m: No module named 'moving_averages'"
     ]
    }
   ],
   "source": [
    "from channel_formation import make_channel, highs_above, lows_below\n",
    "from reading_input import readingInput, createDataFrame\n",
    "from moving_averaes import SMA , EMA"
   ]
  },
  {
   "cell_type": "code",
   "execution_count": null,
   "metadata": {},
   "outputs": [],
   "source": [
    "inputs,channel_length,trade_pairs = readingInput('inputfile.txt')\n",
    "#print(trade_pairs)"
   ]
  },
  {
   "cell_type": "code",
   "execution_count": null,
   "metadata": {},
   "outputs": [],
   "source": [
    "min_channel_length = int(channel_length)\n",
    "step  = 5\n",
    "\n",
    "for trade_pair in trade_pairs:\n",
    "    data = createDataFrame(trade_pair)\n",
    "    name = trade_pair[0]\n",
    "    channels = 0\n",
    "    index= 0\n",
    "    while index<len(data.index)-100:\n",
    "        channel=0\n",
    "        for length in range(100,min_channel_length,-step):    \n",
    "            plot_funct = make_channel(data, length, index, step)\n",
    "            if plot_funct==True:\n",
    "                index = index+length\n",
    "                channels+=1\n",
    "                channel=1\n",
    "                break\n",
    "        if channel==0:\n",
    "            index+=step\n",
    "            \n",
    "\n",
    "    while index < len(data.index)-min_channel_length:\n",
    "        channel=0\n",
    "        for length in range(len(data.index)-index,min_channel_length,-step):    \n",
    "            plot_funct = make_channel(data, length, index, step)\n",
    "            if plot_funct==True:\n",
    "                channels+=1\n",
    "                channel=1\n",
    "                index+=length\n",
    "                break\n",
    "                \n",
    "        if channel==0:\n",
    "            index+=step\n",
    "                \n",
    "    print(name + ':' + str(channels))"
   ]
  },
  {
   "cell_type": "code",
   "execution_count": null,
   "metadata": {},
   "outputs": [],
   "source": []
  },
  {
   "cell_type": "code",
   "execution_count": null,
   "metadata": {},
   "outputs": [],
   "source": []
  },
  {
   "cell_type": "code",
   "execution_count": null,
   "metadata": {},
   "outputs": [],
   "source": []
  }
 ],
 "metadata": {
  "kernelspec": {
   "display_name": "Python 3 (ipykernel)",
   "language": "python",
   "name": "python3"
  },
  "language_info": {
   "codemirror_mode": {
    "name": "ipython",
    "version": 3
   },
   "file_extension": ".py",
   "mimetype": "text/x-python",
   "name": "python",
   "nbconvert_exporter": "python",
   "pygments_lexer": "ipython3",
   "version": "3.7.13"
  }
 },
 "nbformat": 4,
 "nbformat_minor": 4
}
