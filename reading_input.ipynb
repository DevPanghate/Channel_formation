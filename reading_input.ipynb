{
 "cells": [
  {
   "cell_type": "code",
   "execution_count": 4,
   "metadata": {},
   "outputs": [],
   "source": [
    "import gate_api\n",
    "from gate_api.exceptions import ApiException, GateApiException"
   ]
  },
  {
   "cell_type": "code",
   "execution_count": 5,
   "metadata": {},
   "outputs": [],
   "source": [
    "import pandas as pd\n",
    "import numpy as np\n",
    "import datetime\n",
    "from datetime import datetime\n",
    "from datetime import date\n",
    "import time\n",
    "import plotly\n",
    "import plotly.graph_objects as go\n",
    "from matplotlib import pyplot\n",
    "import os"
   ]
  },
  {
   "cell_type": "code",
   "execution_count": 8,
   "metadata": {},
   "outputs": [
    {
     "ename": "ImportError",
     "evalue": "attempted relative import with no known parent package",
     "output_type": "error",
     "traceback": [
      "\u001b[1;31m---------------------------------------------------------------------------\u001b[0m",
      "\u001b[1;31mImportError\u001b[0m                               Traceback (most recent call last)",
      "\u001b[1;32m<ipython-input-8-ee29c8d21442>\u001b[0m in \u001b[0;36m<module>\u001b[1;34m\u001b[0m\n\u001b[1;32m----> 1\u001b[1;33m \u001b[1;32mfrom\u001b[0m \u001b[1;33m.\u001b[0m\u001b[0mchannel_formation\u001b[0m \u001b[1;32mimport\u001b[0m \u001b[0mmake_channel\u001b[0m\u001b[1;33m,\u001b[0m \u001b[0mhighs_above\u001b[0m\u001b[1;33m,\u001b[0m \u001b[0mlows_below\u001b[0m\u001b[1;33m\u001b[0m\u001b[1;33m\u001b[0m\u001b[0m\n\u001b[0m",
      "\u001b[1;31mImportError\u001b[0m: attempted relative import with no known parent package"
     ]
    }
   ],
   "source": [
    "from channel_formation import make_channel, highs_above, lows_below"
   ]
  },
  {
   "cell_type": "code",
   "execution_count": null,
   "metadata": {},
   "outputs": [],
   "source": [
    "configuration = gate_api.Configuration(\n",
    "    host = \"https://api.gateio.ws/api/v4\"\n",
    ")\n",
    "\n",
    "\n",
    "api_client = gate_api.ApiClient(configuration)\n",
    "# Create an instance of the API class\n",
    "api_instance = gate_api.SpotApi(api_client)\n",
    "\n"
   ]
  },
  {
   "cell_type": "code",
   "execution_count": null,
   "metadata": {},
   "outputs": [],
   "source": [
    "def readingInput(filename):    \n",
    "    input_file = open(filename,'r')\n",
    "    inputs = input_file.readline()\n",
    "    inputs = int(inputs)\n",
    "    if inputs == 0:\n",
    "        print('number of inputs is 0')\n",
    "        return\n",
    "    \n",
    "    channel_length = input_file.readline()\n",
    "    input_file.seek(0)\n",
    "    trade_pairs=[]\n",
    "    x = input_file.readlines()\n",
    "    #print(trades)\n",
    "    #for i in range(len(x)-1):\n",
    "        \n",
    "        #x[i]=x[i][:-2]\n",
    "    x = x[2:]\n",
    "    for i in x:\n",
    "        trade_pairs.append(i.split(sep=', '))\n",
    "    return inputs,channel_length,trade_pairs\n",
    "\n",
    "        "
   ]
  },
  {
   "cell_type": "code",
   "execution_count": null,
   "metadata": {},
   "outputs": [],
   "source": [
    "def createDataFrame(trade_info):\n",
    "    \n",
    "    currency_pair = trade_info[0]+'_USDT' \n",
    "    \n",
    "    time1 = trade_info[2].split(sep='/')\n",
    "    if trade_info[3][-1]=='\\n':\n",
    "        time2 = trade_info[3][:-1]\n",
    "    else:\n",
    "        time2 = trade_info[3]\n",
    "    #print(time2)\n",
    "    time2= time2.split(sep='/')\n",
    "    epoch = date(1970, 1, 1)\n",
    "    date1 = date(int(time1[-1]),int(time1[-3]),int(time1[-2]))\n",
    "    date2 = date(int(time2[-1]),int(time2[-3]),int(time2[-2]))\n",
    "    diff1 = date1-epoch\n",
    "    diff2 = date2-epoch\n",
    "    \n",
    "    ts1 =  int(diff1.total_seconds())\n",
    "    ts2 = int(diff2.total_seconds())\n",
    "    #print(date1,date2)\n",
    "    #print(ts1,ts2)\n",
    "    _from = ts1 \n",
    "    to = ts2\n",
    "    interval = trade_info[1]\n",
    "    interval_map={'10s':10,'5m':300,'10m':600,'15m':900,'30m':1800,'1h':3600,'4h':14400,'8h':28800,'1d':86400,'7d':604800}\n",
    "    \n",
    "    if interval_map.get(interval)==None:\n",
    "        print('Invalid interval')\n",
    "        return\n",
    "    if (ts2-ts1)/interval_map[interval] > 1000 :\n",
    "        print(ts2-ts1/interval_map[interval])\n",
    "        print('number of points exceeded')\n",
    "        return\n",
    "    if (ts2-ts1)/interval_map[interval] < 1 :\n",
    "        print('number of points less than 1')\n",
    "        return\n",
    "    \n",
    "    \n",
    "    try:\n",
    "        # Market candlesticks\n",
    "        api_response = api_instance.list_candlesticks(currency_pair, _from=_from , to = to, interval=interval)\n",
    "\n",
    "        #print(api_response)\n",
    "    except GateApiException as ex:\n",
    "        print(\"Gate api exception, label: %s, message: %s\\n\" % (ex.label, ex.message))\n",
    "    except ApiException as e:\n",
    "        print(\"Exception when calling SpotApi->list_candlesticks: %s\\n\" % e)\n",
    "    for i in api_response:\n",
    "        \n",
    "        i = i.remove(i[6])\n",
    "    #print(api_response)\n",
    "    df = pd.DataFrame(api_response, columns=['unix_timestamp','trading_volume','close','high','low','open'])\n",
    "    \n",
    "    df['unix_timestamp'] = df['unix timestamp'].astype('int')\n",
    "    df['trading_volume'] = df['trading volume'].astype('float64')\n",
    "    df['close'] = df['close'].astype('float64')\n",
    "    df['open'] = df['open'].astype('float64')\n",
    "    df['low'] = df['low'].astype('float64')\n",
    "    df['high'] = df['high'].astype('float64')\n",
    "    df['Datetime'] = df['unix_timestamp'].map(lambda x: date.fromtimestamp(x))\n",
    "    return df"
   ]
  },
  {
   "cell_type": "code",
   "execution_count": null,
   "metadata": {},
   "outputs": [],
   "source": [
    "\n",
    "    "
   ]
  }
 ],
 "metadata": {
  "kernelspec": {
   "display_name": "Python 3",
   "language": "python",
   "name": "python3"
  },
  "language_info": {
   "codemirror_mode": {
    "name": "ipython",
    "version": 3
   },
   "file_extension": ".py",
   "mimetype": "text/x-python",
   "name": "python",
   "nbconvert_exporter": "python",
   "pygments_lexer": "ipython3",
   "version": "3.8.5"
  }
 },
 "nbformat": 4,
 "nbformat_minor": 4
}
