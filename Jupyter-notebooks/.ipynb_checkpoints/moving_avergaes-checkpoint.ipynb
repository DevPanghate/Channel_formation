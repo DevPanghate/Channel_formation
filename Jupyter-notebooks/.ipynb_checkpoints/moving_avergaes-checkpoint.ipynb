{
 "cells": [
  {
   "cell_type": "code",
   "execution_count": 8,
   "metadata": {},
   "outputs": [],
   "source": [
    "import gate_api\n",
    "from gate_api.exceptions import ApiException, GateApiException"
   ]
  },
  {
   "cell_type": "code",
   "execution_count": 9,
   "metadata": {},
   "outputs": [],
   "source": [
    "import pandas as pd\n",
    "import numpy as np\n",
    "import datetime\n",
    "from datetime import datetime\n",
    "from datetime import date\n",
    "import time\n",
    "import plotly\n",
    "import plotly.graph_objects as go\n",
    "from matplotlib import pyplot\n",
    "import os"
   ]
  },
  {
   "cell_type": "code",
   "execution_count": 10,
   "metadata": {},
   "outputs": [],
   "source": [
    "configuration = gate_api.Configuration(\n",
    "    host = \"https://api.gateio.ws/api/v4\"\n",
    ")\n",
    "\n",
    "\n",
    "api_client = gate_api.ApiClient(configuration)\n",
    "# Create an instance of the API class\n",
    "api_instance = gate_api.SpotApi(api_client)"
   ]
  },
  {
   "cell_type": "code",
   "execution_count": 11,
   "metadata": {},
   "outputs": [],
   "source": [
    "def readingInput(filename):    \n",
    "    input_file = open(filename,'r')\n",
    "    inputs = input_file.readline()\n",
    "    inputs = int(inputs)\n",
    "    if inputs == 0:\n",
    "        print('number of inputs is 0')\n",
    "        return\n",
    "    \n",
    "    channel_length = input_file.readline()\n",
    "    input_file.seek(0)\n",
    "    trade_pairs=[]\n",
    "    x = input_file.readlines()\n",
    "    #print(trades)\n",
    "    #for i in range(len(x)-1):\n",
    "        \n",
    "        #x[i]=x[i][:-2]\n",
    "    x = x[2:]\n",
    "    for i in x:\n",
    "        trade_pairs.append(i.split(sep=', '))\n",
    "    return inputs,channel_length,trade_pairs"
   ]
  },
  {
   "cell_type": "code",
   "execution_count": 12,
   "metadata": {},
   "outputs": [
    {
     "ename": "FileNotFoundError",
     "evalue": "[Errno 2] No such file or directory: 'inputfile.txt'",
     "output_type": "error",
     "traceback": [
      "\u001b[0;31m---------------------------------------------------------------------------\u001b[0m",
      "\u001b[0;31mFileNotFoundError\u001b[0m                         Traceback (most recent call last)",
      "\u001b[0;32m/tmp/ipykernel_1028/916841801.py\u001b[0m in \u001b[0;36m<module>\u001b[0;34m\u001b[0m\n\u001b[0;32m----> 1\u001b[0;31m \u001b[0minputs\u001b[0m\u001b[0;34m,\u001b[0m\u001b[0mchannel_length\u001b[0m\u001b[0;34m,\u001b[0m\u001b[0mtrade_pairs\u001b[0m \u001b[0;34m=\u001b[0m \u001b[0mreadingInput\u001b[0m\u001b[0;34m(\u001b[0m\u001b[0;34m'inputfile.txt'\u001b[0m\u001b[0;34m)\u001b[0m\u001b[0;34m\u001b[0m\u001b[0;34m\u001b[0m\u001b[0m\n\u001b[0m\u001b[1;32m      2\u001b[0m \u001b[0;31m#print(trade_pairs)\u001b[0m\u001b[0;34m\u001b[0m\u001b[0;34m\u001b[0m\u001b[0;34m\u001b[0m\u001b[0m\n",
      "\u001b[0;32m/tmp/ipykernel_1028/2465499347.py\u001b[0m in \u001b[0;36mreadingInput\u001b[0;34m(filename)\u001b[0m\n\u001b[1;32m      1\u001b[0m \u001b[0;32mdef\u001b[0m \u001b[0mreadingInput\u001b[0m\u001b[0;34m(\u001b[0m\u001b[0mfilename\u001b[0m\u001b[0;34m)\u001b[0m\u001b[0;34m:\u001b[0m\u001b[0;34m\u001b[0m\u001b[0;34m\u001b[0m\u001b[0m\n\u001b[0;32m----> 2\u001b[0;31m     \u001b[0minput_file\u001b[0m \u001b[0;34m=\u001b[0m \u001b[0mopen\u001b[0m\u001b[0;34m(\u001b[0m\u001b[0mfilename\u001b[0m\u001b[0;34m,\u001b[0m\u001b[0;34m'r'\u001b[0m\u001b[0;34m)\u001b[0m\u001b[0;34m\u001b[0m\u001b[0;34m\u001b[0m\u001b[0m\n\u001b[0m\u001b[1;32m      3\u001b[0m     \u001b[0minputs\u001b[0m \u001b[0;34m=\u001b[0m \u001b[0minput_file\u001b[0m\u001b[0;34m.\u001b[0m\u001b[0mreadline\u001b[0m\u001b[0;34m(\u001b[0m\u001b[0;34m)\u001b[0m\u001b[0;34m\u001b[0m\u001b[0;34m\u001b[0m\u001b[0m\n\u001b[1;32m      4\u001b[0m     \u001b[0minputs\u001b[0m \u001b[0;34m=\u001b[0m \u001b[0mint\u001b[0m\u001b[0;34m(\u001b[0m\u001b[0minputs\u001b[0m\u001b[0;34m)\u001b[0m\u001b[0;34m\u001b[0m\u001b[0;34m\u001b[0m\u001b[0m\n\u001b[1;32m      5\u001b[0m     \u001b[0;32mif\u001b[0m \u001b[0minputs\u001b[0m \u001b[0;34m==\u001b[0m \u001b[0;36m0\u001b[0m\u001b[0;34m:\u001b[0m\u001b[0;34m\u001b[0m\u001b[0;34m\u001b[0m\u001b[0m\n",
      "\u001b[0;31mFileNotFoundError\u001b[0m: [Errno 2] No such file or directory: 'inputfile.txt'"
     ]
    }
   ],
   "source": [
    "inputs,channel_length,trade_pairs = readingInput('inputfile.txt')\n",
    "#print(trade_pairs)"
   ]
  },
  {
   "cell_type": "code",
   "execution_count": 13,
   "metadata": {},
   "outputs": [],
   "source": [
    "def createDataFrame(trade_info):\n",
    "    \n",
    "    currency_pair = trade_info[0]+'_USDT' \n",
    "    \n",
    "    time1 = trade_info[2].split(sep='/')\n",
    "    if trade_info[3][-1]=='\\n':\n",
    "        time2 = trade_info[3][:-1]\n",
    "    else:\n",
    "        time2 = trade_info[3]\n",
    "    #print(time2)\n",
    "    time2= time2.split(sep='/')\n",
    "    epoch = date(1970, 1, 1)\n",
    "    date1 = date(int(time1[-1]),int(time1[-3]),int(time1[-2]))\n",
    "    date2 = date(int(time2[-1]),int(time2[-3]),int(time2[-2]))\n",
    "    diff1 = date1-epoch\n",
    "    diff2 = date2-epoch\n",
    "    \n",
    "    ts1 =  int(diff1.total_seconds())\n",
    "    ts2 = int(diff2.total_seconds())\n",
    "    #print(date1,date2)\n",
    "    #print(ts1,ts2)\n",
    "    _from = ts1 \n",
    "    to = ts2\n",
    "    interval = trade_info[1]\n",
    "    interval_map={'10s':10,'5m':300,'10m':600,'15m':900,'30m':1800,'1h':3600,'4h':14400,'8h':28800,'1d':86400,'7d':604800}\n",
    "    \n",
    "    if interval_map.get(interval)==None:\n",
    "        print('Invalid interval')\n",
    "        return\n",
    "    if (ts2-ts1)/interval_map[interval] > 1000 :\n",
    "        print(ts2-ts1/interval_map[interval])\n",
    "        print('number of points exceeded')\n",
    "        return\n",
    "    if (ts2-ts1)/interval_map[interval] < 1 :\n",
    "        print('number of points less than 1')\n",
    "        return\n",
    "    \n",
    "    \n",
    "    try:\n",
    "        # Market candlesticks\n",
    "        api_response = api_instance.list_candlesticks(currency_pair, _from=_from , to = to, interval=interval)\n",
    "\n",
    "        #print(api_response)\n",
    "    except GateApiException as ex:\n",
    "        print(\"Gate api exception, label: %s, message: %s\\n\" % (ex.label, ex.message))\n",
    "    except ApiException as e:\n",
    "        print(\"Exception when calling SpotApi->list_candlesticks: %s\\n\" % e)\n",
    "    for i in api_response:\n",
    "        \n",
    "        i = i.remove(i[6])\n",
    "    #print(api_response)\n",
    "    df = pd.DataFrame(api_response, columns=['unix timestamp','trading volume','close','high','low','open'])\n",
    "    \n",
    "    df['unix_timestamp'] = df['unix timestamp'].astype('int')\n",
    "    df['trading_volume'] = df['trading volume'].astype('float64')\n",
    "    df['close'] = df['close'].astype('float64')\n",
    "    df['open'] = df['open'].astype('float64')\n",
    "    df['low'] = df['low'].astype('float64')\n",
    "    df['high'] = df['high'].astype('float64')\n",
    "    return df"
   ]
  },
  {
   "cell_type": "code",
   "execution_count": 14,
   "metadata": {},
   "outputs": [
    {
     "ename": "NameError",
     "evalue": "name 'trade_pairs' is not defined",
     "output_type": "error",
     "traceback": [
      "\u001b[0;31m---------------------------------------------------------------------------\u001b[0m",
      "\u001b[0;31mNameError\u001b[0m                                 Traceback (most recent call last)",
      "\u001b[0;32m/tmp/ipykernel_1028/1052752097.py\u001b[0m in \u001b[0;36m<module>\u001b[0;34m\u001b[0m\n\u001b[0;32m----> 1\u001b[0;31m \u001b[0mdf\u001b[0m \u001b[0;34m=\u001b[0m \u001b[0mcreateDataFrame\u001b[0m\u001b[0;34m(\u001b[0m\u001b[0mtrade_pairs\u001b[0m\u001b[0;34m[\u001b[0m\u001b[0;36m0\u001b[0m\u001b[0;34m]\u001b[0m\u001b[0;34m)\u001b[0m\u001b[0;34m\u001b[0m\u001b[0;34m\u001b[0m\u001b[0m\n\u001b[0m\u001b[1;32m      2\u001b[0m \u001b[0mdf\u001b[0m\u001b[0;34m[\u001b[0m\u001b[0;34m'Date'\u001b[0m\u001b[0;34m]\u001b[0m \u001b[0;34m=\u001b[0m \u001b[0mdf\u001b[0m\u001b[0;34m[\u001b[0m\u001b[0;34m'unix_timestamp'\u001b[0m\u001b[0;34m]\u001b[0m\u001b[0;34m.\u001b[0m\u001b[0mmap\u001b[0m\u001b[0;34m(\u001b[0m\u001b[0;32mlambda\u001b[0m \u001b[0mx\u001b[0m\u001b[0;34m:\u001b[0m \u001b[0mdate\u001b[0m\u001b[0;34m.\u001b[0m\u001b[0mfromtimestamp\u001b[0m\u001b[0;34m(\u001b[0m\u001b[0mx\u001b[0m\u001b[0;34m)\u001b[0m\u001b[0;34m)\u001b[0m\u001b[0;34m\u001b[0m\u001b[0;34m\u001b[0m\u001b[0m\n\u001b[1;32m      3\u001b[0m \u001b[0mdf\u001b[0m\u001b[0;34m\u001b[0m\u001b[0;34m\u001b[0m\u001b[0m\n",
      "\u001b[0;31mNameError\u001b[0m: name 'trade_pairs' is not defined"
     ]
    }
   ],
   "source": [
    "df = createDataFrame(trade_pairs[0])\n",
    "df['Date'] = df['unix_timestamp'].map(lambda x: date.fromtimestamp(x))\n",
    "df\n"
   ]
  },
  {
   "cell_type": "code",
   "execution_count": 15,
   "metadata": {},
   "outputs": [],
   "source": [
    "def SMA(days,df):\n",
    "    avgs = df.close.rolling(days, min_periods = 15).mean()        # Added Min_Periods = 1\n",
    "    try:\n",
    "        fig.add_traces(go.Scatter(x=df.Date , y = avgs, name = \"SMA\")) \n",
    "        #fig.show()\n",
    "    except:\n",
    "        fig = go.Figure(data=[go.Candlestick(x=df.Date,\n",
    "                open=df['open'],\n",
    "                high=df['high'],\n",
    "                low=df['low'],\n",
    "                close=df['close'])])\n",
    "        fig.add_traces(go.Scatter(x=df.Date , y = avgs, name = \"SMA\"))             \n",
    "        #fig.show()\n",
    "    return avgs, fig\n",
    "    "
   ]
  },
  {
   "cell_type": "code",
   "execution_count": 16,
   "metadata": {},
   "outputs": [],
   "source": [
    "def EMA(days,df):\n",
    "    # For first \"days\" period of data use SMA \n",
    "    avgs = EMA(days, df)\n",
    "    avgs1 = avgs[:days - 1] \n",
    "    k = 2/(days+1)                          \n",
    "    avgs1 = np.append(avgs1,df.close[:days].mean())\n",
    "    for i in range(days,len(df)):\n",
    "        avgs1 = np.append(avgs1,k*(df.close.iloc[i]-avgs1[i-1]) + avgs1[i-1])\n",
    "    fig = go.Figure(data=[go.Candlestick(x=df.Date,\n",
    "                open=df['open'],\n",
    "                high=df['high'],\n",
    "                low=df['low'],\n",
    "                close=df['close'])])\n",
    "    fig.add_traces(go.Scatter(x=df.Date , y = avgs1 , name = \"EMA\")) \n",
    "    fig.show()\n",
    "    return avgs, avgs1"
   ]
  },
  {
   "cell_type": "code",
   "execution_count": 17,
   "metadata": {
    "scrolled": true
   },
   "outputs": [
    {
     "ename": "NameError",
     "evalue": "name 'df' is not defined",
     "output_type": "error",
     "traceback": [
      "\u001b[0;31m---------------------------------------------------------------------------\u001b[0m",
      "\u001b[0;31mNameError\u001b[0m                                 Traceback (most recent call last)",
      "\u001b[0;32m/tmp/ipykernel_1028/2126535643.py\u001b[0m in \u001b[0;36m<module>\u001b[0;34m\u001b[0m\n\u001b[0;32m----> 1\u001b[0;31m \u001b[0mavgs\u001b[0m\u001b[0;34m,\u001b[0m \u001b[0mavgs1\u001b[0m \u001b[0;34m=\u001b[0m \u001b[0mEMA\u001b[0m\u001b[0;34m(\u001b[0m\u001b[0;36m30\u001b[0m\u001b[0;34m,\u001b[0m \u001b[0mdf\u001b[0m\u001b[0;34m)\u001b[0m\u001b[0;34m\u001b[0m\u001b[0;34m\u001b[0m\u001b[0m\n\u001b[0m",
      "\u001b[0;31mNameError\u001b[0m: name 'df' is not defined"
     ]
    }
   ],
   "source": [
    "avgs, avgs1 = EMA(30, df)"
   ]
  },
  {
   "cell_type": "code",
   "execution_count": null,
   "metadata": {},
   "outputs": [],
   "source": []
  }
 ],
 "metadata": {
  "kernelspec": {
   "display_name": "Python 3 (ipykernel)",
   "language": "python",
   "name": "python3"
  },
  "language_info": {
   "codemirror_mode": {
    "name": "ipython",
    "version": 3
   },
   "file_extension": ".py",
   "mimetype": "text/x-python",
   "name": "python",
   "nbconvert_exporter": "python",
   "pygments_lexer": "ipython3",
   "version": "3.7.13"
  }
 },
 "nbformat": 4,
 "nbformat_minor": 4
}
